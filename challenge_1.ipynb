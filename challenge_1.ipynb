{
 "cells": [
  {
   "cell_type": "markdown",
   "id": "11d8958d",
   "metadata": {},
   "source": [
    "s = \"this is My First Python programming class and i am learNING python string and its function\"\n",
    "\n",
    "1 . Try to extract data from index one to index 300 with a jump of 3\n",
    "\n",
    "2. Try to reverse a string without using reverse function\n",
    "\n",
    "3. Try to split a string after conversion of entire string in uppercase\n",
    "\n",
    "4. try to convert the whole string into lower case \n",
    "\n",
    "5 . Try to capitalize the whole string\n",
    "\n",
    "6 . Write a diference between isalnum() and isalpha()\n",
    "\n",
    "7. Try to give an example of expand tab\n",
    "\n",
    "8 . Give an example of strip , lstrip and rstrip\n",
    "\n",
    "9.  Replace a string charecter by another charector by taking your own example \n",
    "\n",
    "10 . Try  to give a defination of string center function with and exmple \n",
    "\n",
    "11 . Write your own definition of compiler and interpretor without copy paste form internet in your own language\n",
    "\n",
    "12 . Python is a interpreted of compiled language give a clear ans with your understanding\n",
    "\n",
    "13 . Try to write a usecase of python with your understanding .\n"
   ]
  },
  {
   "cell_type": "code",
   "execution_count": 1,
   "id": "2abc3a08",
   "metadata": {},
   "outputs": [],
   "source": [
    "s = \"this is My First Python programming class and i am learNING python string and its function\""
   ]
  },
  {
   "cell_type": "markdown",
   "id": "16a9a044",
   "metadata": {},
   "source": [
    "Que1 . Try to extract data from index one to index 300 with a jump of 3"
   ]
  },
  {
   "cell_type": "code",
   "execution_count": 2,
   "id": "21fae3bb",
   "metadata": {},
   "outputs": [
    {
     "data": {
      "text/plain": [
       "'h   r tnrrmglsnimeNGyosi dtfco'"
      ]
     },
     "execution_count": 2,
     "metadata": {},
     "output_type": "execute_result"
    }
   ],
   "source": [
    "s[1:301:3]"
   ]
  },
  {
   "cell_type": "markdown",
   "id": "bfb2d8f6",
   "metadata": {},
   "source": [
    "Que2. Try to reverse a string without using reverse function"
   ]
  },
  {
   "cell_type": "code",
   "execution_count": 3,
   "id": "c9dcb778",
   "metadata": {},
   "outputs": [
    {
     "data": {
      "text/plain": [
       "'noitcnuf sti dna gnirts nohtyp GNINrael ma i dna ssalc gnimmargorp nohtyP tsriF yM si siht'"
      ]
     },
     "execution_count": 3,
     "metadata": {},
     "output_type": "execute_result"
    }
   ],
   "source": [
    "s[::-1]"
   ]
  },
  {
   "cell_type": "markdown",
   "id": "cefec4fe",
   "metadata": {},
   "source": [
    "Que3. Try to split a string after conversion of entire string in uppercase"
   ]
  },
  {
   "cell_type": "code",
   "execution_count": 5,
   "id": "54f317c8",
   "metadata": {},
   "outputs": [
    {
     "data": {
      "text/plain": [
       "['THIS',\n",
       " 'IS',\n",
       " 'MY',\n",
       " 'FIRST',\n",
       " 'PYTHON',\n",
       " 'PROGRAMMING',\n",
       " 'CLASS',\n",
       " 'AND',\n",
       " 'I',\n",
       " 'AM',\n",
       " 'LEARNING',\n",
       " 'PYTHON',\n",
       " 'STRING',\n",
       " 'AND',\n",
       " 'ITS',\n",
       " 'FUNCTION']"
      ]
     },
     "execution_count": 5,
     "metadata": {},
     "output_type": "execute_result"
    }
   ],
   "source": [
    "s.upper().split(' ')"
   ]
  },
  {
   "cell_type": "markdown",
   "id": "30613012",
   "metadata": {},
   "source": [
    "Que4. try to convert the whole string into lower case"
   ]
  },
  {
   "cell_type": "code",
   "execution_count": 6,
   "id": "00731e66",
   "metadata": {},
   "outputs": [
    {
     "data": {
      "text/plain": [
       "'this is my first python programming class and i am learning python string and its function'"
      ]
     },
     "execution_count": 6,
     "metadata": {},
     "output_type": "execute_result"
    }
   ],
   "source": [
    "s.lower()"
   ]
  },
  {
   "cell_type": "markdown",
   "id": "07925705",
   "metadata": {},
   "source": [
    "Que5. Try to capitalize the whole string"
   ]
  },
  {
   "cell_type": "code",
   "execution_count": 7,
   "id": "c5d8b8a7",
   "metadata": {},
   "outputs": [
    {
     "data": {
      "text/plain": [
       "'This is my first python programming class and i am learning python string and its function'"
      ]
     },
     "execution_count": 7,
     "metadata": {},
     "output_type": "execute_result"
    }
   ],
   "source": [
    "s.capitalize()"
   ]
  },
  {
   "cell_type": "markdown",
   "id": "8d96488f",
   "metadata": {},
   "source": [
    "Que6. Write a difference between isalnum() and isalpha()"
   ]
  },
  {
   "cell_type": "code",
   "execution_count": 15,
   "id": "3bf9d5cc",
   "metadata": {},
   "outputs": [
    {
     "data": {
      "text/plain": [
       "True"
      ]
     },
     "execution_count": 15,
     "metadata": {},
     "output_type": "execute_result"
    }
   ],
   "source": [
    "# isalnum() : it is a function thats returns true only if string contains numerical values or characters or both.\n",
    "s.isalnum()"
   ]
  },
  {
   "cell_type": "code",
   "execution_count": 14,
   "id": "5f9362df",
   "metadata": {},
   "outputs": [
    {
     "data": {
      "text/plain": [
       "False"
      ]
     },
     "execution_count": 14,
     "metadata": {},
     "output_type": "execute_result"
    }
   ],
   "source": [
    "# isalpha() : it's a function which returns true only in case of string containing alphabets.\n",
    "s.isalpha()\n",
    "# here string also contains spaces."
   ]
  },
  {
   "cell_type": "markdown",
   "id": "52ff44bd",
   "metadata": {},
   "source": [
    "Que7. Try to give an example of expand tab"
   ]
  },
  {
   "cell_type": "code",
   "execution_count": 19,
   "id": "8aa7f130",
   "metadata": {},
   "outputs": [
    {
     "data": {
      "text/plain": [
       "'abc     123     @#$'"
      ]
     },
     "execution_count": 19,
     "metadata": {},
     "output_type": "execute_result"
    }
   ],
   "source": [
    "a = \"abc\\t123\\t@#$\"\n",
    "a.expandtabs()"
   ]
  },
  {
   "cell_type": "markdown",
   "id": "e0046626",
   "metadata": {},
   "source": [
    "Que8. Give an example of strip , lstrip and rstrip"
   ]
  },
  {
   "cell_type": "code",
   "execution_count": 20,
   "id": "d0c0611c",
   "metadata": {},
   "outputs": [],
   "source": [
    "a = \"        ankur yadav          \""
   ]
  },
  {
   "cell_type": "code",
   "execution_count": 21,
   "id": "a3b56192",
   "metadata": {},
   "outputs": [
    {
     "data": {
      "text/plain": [
       "'ankur yadav          '"
      ]
     },
     "execution_count": 21,
     "metadata": {},
     "output_type": "execute_result"
    }
   ],
   "source": [
    "a.lstrip()"
   ]
  },
  {
   "cell_type": "code",
   "execution_count": 22,
   "id": "86cee17f",
   "metadata": {},
   "outputs": [
    {
     "data": {
      "text/plain": [
       "'        ankur yadav'"
      ]
     },
     "execution_count": 22,
     "metadata": {},
     "output_type": "execute_result"
    }
   ],
   "source": [
    "a.rstrip()"
   ]
  },
  {
   "cell_type": "code",
   "execution_count": 23,
   "id": "4f5e3be4",
   "metadata": {},
   "outputs": [
    {
     "data": {
      "text/plain": [
       "'ankur yadav'"
      ]
     },
     "execution_count": 23,
     "metadata": {},
     "output_type": "execute_result"
    }
   ],
   "source": [
    "a.strip()"
   ]
  },
  {
   "cell_type": "markdown",
   "id": "f10dfe42",
   "metadata": {},
   "source": [
    "Que9. Replace a string charecter by another charector by taking your own example"
   ]
  },
  {
   "cell_type": "code",
   "execution_count": 27,
   "id": "b1b22642",
   "metadata": {},
   "outputs": [],
   "source": [
    "a = \"this is my f1rst chall@nge\""
   ]
  },
  {
   "cell_type": "code",
   "execution_count": 29,
   "id": "61af3a4e",
   "metadata": {},
   "outputs": [
    {
     "data": {
      "text/plain": [
       "'this is my f1rst challange'"
      ]
     },
     "execution_count": 29,
     "metadata": {},
     "output_type": "execute_result"
    }
   ],
   "source": [
    "a.replace('@','a')"
   ]
  },
  {
   "cell_type": "code",
   "execution_count": 30,
   "id": "b7993d08",
   "metadata": {},
   "outputs": [
    {
     "data": {
      "text/plain": [
       "'this is my first chall@nge'"
      ]
     },
     "execution_count": 30,
     "metadata": {},
     "output_type": "execute_result"
    }
   ],
   "source": [
    "a.replace('1','i')"
   ]
  },
  {
   "cell_type": "markdown",
   "id": "a58fbe0b",
   "metadata": {},
   "source": [
    "Que10 . Try to give a definition of string center function with and exmple"
   ]
  },
  {
   "cell_type": "markdown",
   "id": "2cb0ae7a",
   "metadata": {},
   "source": [
    "Ans:\n",
    "\n",
    " function which increases strings length by keeping previous string data at center\n",
    " \n",
    " \n",
    " and concatenating passed parameters at the head and tail of the string."
   ]
  },
  {
   "cell_type": "markdown",
   "id": "bb9b237b",
   "metadata": {},
   "source": [
    "Que 11 . Write your own definition of compiler and interpretor without copy paste form internet in your own language"
   ]
  },
  {
   "cell_type": "code",
   "execution_count": 33,
   "id": "bcd37ddb",
   "metadata": {},
   "outputs": [],
   "source": [
    "# compiler: it first compiles code hen executes.\n",
    "# interpretor: it executes code line by line."
   ]
  },
  {
   "cell_type": "markdown",
   "id": "8cc919bc",
   "metadata": {},
   "source": [
    "Que12. Python is a interpreted of compiled language give a clear ans with your understanding"
   ]
  },
  {
   "cell_type": "code",
   "execution_count": 34,
   "id": "b3b1f458",
   "metadata": {},
   "outputs": [],
   "source": [
    "# python can be either compiled or interpreted language depends on the application that is used to write and execute python code.\n"
   ]
  },
  {
   "cell_type": "markdown",
   "id": "20acb417",
   "metadata": {},
   "source": [
    "Que13 . Try to write a usecase of python with your understanding ."
   ]
  },
  {
   "cell_type": "code",
   "execution_count": 35,
   "id": "4cfa35dc",
   "metadata": {},
   "outputs": [],
   "source": [
    "# It can be used for datascience, Automation testing, bot creation,web development,game development, application development etc"
   ]
  },
  {
   "cell_type": "code",
   "execution_count": null,
   "id": "c412f24c",
   "metadata": {},
   "outputs": [],
   "source": []
  }
 ],
 "metadata": {
  "kernelspec": {
   "display_name": "Python 3 (ipykernel)",
   "language": "python",
   "name": "python3"
  },
  "language_info": {
   "codemirror_mode": {
    "name": "ipython",
    "version": 3
   },
   "file_extension": ".py",
   "mimetype": "text/x-python",
   "name": "python",
   "nbconvert_exporter": "python",
   "pygments_lexer": "ipython3",
   "version": "3.9.7"
  }
 },
 "nbformat": 4,
 "nbformat_minor": 5
}
