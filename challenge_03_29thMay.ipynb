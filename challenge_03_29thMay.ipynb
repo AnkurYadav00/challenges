{
 "cells": [
  {
   "cell_type": "markdown",
   "id": "7effa1e1",
   "metadata": {},
   "source": [
    "Que1 : pattern 1"
   ]
  },
  {
   "cell_type": "code",
   "execution_count": 1,
   "id": "d843d43d",
   "metadata": {},
   "outputs": [
    {
     "name": "stdout",
     "output_type": "stream",
     "text": [
      "\n",
      "*  \n",
      "*  *  \n",
      "*  *  *  \n",
      "*  *  *  *  \n",
      "*  *  *  *  *  \n",
      "*  *  *  *  *  *  \n",
      "*  *  *  *  *  *  *  \n",
      "*  *  *  *  *  *  *  *  \n",
      "*  *  *  *  *  *  *  *  *  \n"
     ]
    }
   ],
   "source": [
    "\n",
    "i = 0\n",
    "j = 0\n",
    "while i < 10 :\n",
    "    j = 0\n",
    "    while j < i :\n",
    "        print('* ', end = \" \")\n",
    "        j += 1\n",
    "    print()\n",
    "    i += 1"
   ]
  },
  {
   "cell_type": "markdown",
   "id": "33a4c91e",
   "metadata": {},
   "source": [
    "Que 2 : Pattern 2"
   ]
  },
  {
   "cell_type": "code",
   "execution_count": 57,
   "id": "55b4b994",
   "metadata": {},
   "outputs": [],
   "source": [
    "# import string\n",
    "# print(string.ascii_uppercase)\n",
    "l = list(\"ABCDEFGHIJKLMNopQRSTUVWXYz\")"
   ]
  },
  {
   "cell_type": "code",
   "execution_count": 58,
   "id": "a42f225c",
   "metadata": {},
   "outputs": [
    {
     "data": {
      "text/plain": [
       "['A',\n",
       " 'B',\n",
       " 'C',\n",
       " 'D',\n",
       " 'E',\n",
       " 'F',\n",
       " 'G',\n",
       " 'H',\n",
       " 'I',\n",
       " 'J',\n",
       " 'K',\n",
       " 'L',\n",
       " 'M',\n",
       " 'N',\n",
       " 'o',\n",
       " 'p',\n",
       " 'Q',\n",
       " 'R',\n",
       " 'S',\n",
       " 'T',\n",
       " 'U',\n",
       " 'V',\n",
       " 'W',\n",
       " 'X',\n",
       " 'Y',\n",
       " 'z']"
      ]
     },
     "execution_count": 58,
     "metadata": {},
     "output_type": "execute_result"
    }
   ],
   "source": [
    "l"
   ]
  },
  {
   "cell_type": "code",
   "execution_count": 59,
   "id": "9f9dfa84",
   "metadata": {},
   "outputs": [
    {
     "name": "stdout",
     "output_type": "stream",
     "text": [
      "A \n",
      "B H \n",
      "C I N \n",
      "D J o S \n",
      "E K p T W \n",
      "F L Q U X z \n",
      "G M R V Y \n"
     ]
    }
   ],
   "source": [
    "t = 7\n",
    "i = 0\n",
    "l1 = [7,6,5,4,3,2,1]\n",
    "while i < t :\n",
    "    j = 0\n",
    "    while j <= i :\n",
    "        if j == 0 :\n",
    "            print(l[i], end = \" \")\n",
    "        elif j == 1 :\n",
    "            print(l[i + l1[j]], end = \" \")\n",
    "        elif j == 2 :\n",
    "            print(l[i + l1[j] + l1[j] + 1], end = \" \")\n",
    "        elif j  ==  3 :\n",
    "            print(l[i + l1[j] + l1[j] +l1[j] + l1[j] -1], end = \" \")\n",
    "        elif j  ==  4 :\n",
    "            print(l[i + l1[j] + l1[j] + l1[j] + l1[j] + l1[j] + l1[j]], end = \" \")\n",
    "        elif j == 5 :\n",
    "            if i == 6 :\n",
    "                break\n",
    "            print(l[i + l1[j] + l1[j] + l1[j] + l1[j] + l1[j] + l1[j] + l1[j] + l1[j] + 4], end = \" \")\n",
    "        j += 1\n",
    "    print()\n",
    "    i += 1"
   ]
  },
  {
   "cell_type": "markdown",
   "id": "fe1804a5",
   "metadata": {},
   "source": [
    "q3 : Try to print all the number divisible by 3 in between a range of 40 - 400"
   ]
  },
  {
   "cell_type": "code",
   "execution_count": 37,
   "id": "5db88a0f",
   "metadata": {},
   "outputs": [
    {
     "name": "stdout",
     "output_type": "stream",
     "text": [
      "42,     45,     48,     51,     54,     57,     60,     63,     66,     69,     72,     75,     78,     81,     84,     87,     90,     93,     96,     99,     102,     105,     108,     111,     114,     117,     120,     123,     126,     129,     132,     135,     138,     141,     144,     147,     150,     153,     156,     159,     162,     165,     168,     171,     174,     177,     180,     183,     186,     189,     192,     195,     198,     201,     204,     207,     210,     213,     216,     219,     222,     225,     228,     231,     234,     237,     240,     243,     246,     249,     252,     255,     258,     261,     264,     267,     270,     273,     276,     279,     282,     285,     288,     291,     294,     297,     300,     303,     306,     309,     312,     315,     318,     321,     324,     327,     330,     333,     336,     339,     342,     345,     348,     351,     354,     357,     360,     363,     366,     369,     372,     375,     378,     381,     384,     387,     390,     393,     396,     399,     "
     ]
    }
   ],
   "source": [
    "i = 40\n",
    "while i <= 400 :\n",
    "    if i%3 == 0 :\n",
    "        print(i, end = \",     \")\n",
    "    i += 1"
   ]
  },
  {
   "cell_type": "markdown",
   "id": "89918430",
   "metadata": {},
   "source": [
    "q4 : Try to filter out all the vowels form below text by using while loop : "
   ]
  },
  {
   "cell_type": "code",
   "execution_count": 61,
   "id": "27c6631c",
   "metadata": {},
   "outputs": [
    {
     "name": "stdout",
     "output_type": "stream",
     "text": [
      "o,    i,    a,    i,    e,    e,    i,    e,    e,    e,    e,    e,    a,    u,    o,    e,    o,    a,    i,    a,    u,    a,    e,    I,    e,    i,    i,    o,    o,    e,    a,    i,    e,    o,    e,    e,    a,    a,    i,    i,    i,    e,    u,    e,    o,    i,    i,    i,    a,    i,    e,    a,    i,    o,    o,    i,    a,    i,    a,    e,    a,    a,    a,    e,    o,    e,    e,    I,    u,    o,    u,    i,    e,    o,    a,    i,    a,    a,    i,    i,    u,    i,    u,    u,    e,    a,    i,    u,    a,    o,    e,    u,    a,    o,    e,    o,    i,    e,    e,    a,    u,    i,    o,    a,    o,    a,    i,    I,    i,    o,    e,    e,    i,    e,    a,    a,    a,    e,    i,    e,    i,    u,    e,    a,    u,    a,    e,    u,    e,    o,    i,    o,    e,    e,    i,    e,    a,    a,    i,    a,    u,    i,    o,    a,    o,    u,    e,    a,    o,    i,    o,    o,    i,    e,    a,    e,    a,    a,    u,    e,    o,    o,    e,    A,    o,    a,    i,    a,    u,    a,    e,    a,    i,    e,    e,    a,    e,    i,    i,    a,    o,    o,    a,    e,    e,    a,    e,    i,    a,    i,    o,    u,    e,    e,    e,    a,    u,    e,    u,    a,    i,    o,    e,    e,    i,    o,    e,    e,    e,    i,    a,    a,    e,    o,    e,    i,    o,    e,    e,    e,    e,    o,    u,    i,    a,    U,    i,    o,    e,    u,    o,    o,    e,    e,    a,    e,    i,    a,    a,    a,    o,    e,    i,    i,    o,    a,    i,    o,    o,    e,    e,    a,    a,    o,    a,    i,    e,    i,    e,    a,    i,    e,    e,    i,    o,    o,    a,    i,    o,    i,    u,    e,    i,    e,    i,    o,    i,    o,    o,    i,    e,    a,    a,    o,    e,    o,    e,    o,    o,    u,    a,    o,    a,    i,    a,    u,    a,    e,    "
     ]
    }
   ],
   "source": [
    "S = \"\"\" Python is a high-level, interpreted, general-purpose programming language. Its design philosophy emphasizes code readability with the use of significant indentation.[32]\n",
    "\n",
    "Python is dynamically-typed and garbage-collected. It supports multiple programming paradigms, including structured (particularly procedural), object-oriented and functional programming. It is often described as a \"batteries included\" language due to its comprehensive standard library.[33][34]\n",
    "\n",
    "Guido van Rossum began working on Python in the late 1980s as a successor to the ABC programming language and first released it in 1991 as Python 0.9.0.[35] Python 2.0 was released in 2000 and introduced new features such as list comprehensions, cycle-detecting garbage collection, reference counting, and Unicode support. Python 3.0, released in 2008, was a major revision that is not completely backward-compatible with earlier versions. Python 2 was discontinued with version 2.7.18 in 2020.[36]\n",
    "\n",
    "Python consistently ranks as one of the most popular programming languagesc\n",
    " \"\"\"\n",
    "\n",
    "i = 0\n",
    "while i < len(S) :\n",
    "    if S[i] in \"AEIOUaeiou\" :\n",
    "        print(S[i], end = \",    \")\n",
    "    i += 1"
   ]
  },
  {
   "cell_type": "markdown",
   "id": "59c6e224",
   "metadata": {},
   "source": [
    "q5 : Try to generate all the even number between 1- 1000"
   ]
  },
  {
   "cell_type": "code",
   "execution_count": 66,
   "id": "aa453538",
   "metadata": {},
   "outputs": [
    {
     "name": "stdout",
     "output_type": "stream",
     "text": [
      "0,       2,       4,       6,       8,       10,       12,       14,       16,       18,       20,       22,       24,       26,       28,       30,       32,       34,       36,       38,       40,       42,       44,       46,       48,       50,       52,       54,       56,       58,       60,       62,       64,       66,       68,       70,       72,       74,       76,       78,       80,       82,       84,       86,       88,       90,       92,       94,       96,       98,       100,       102,       104,       106,       108,       110,       112,       114,       116,       118,       120,       122,       124,       126,       128,       130,       132,       134,       136,       138,       140,       142,       144,       146,       148,       150,       152,       154,       156,       158,       160,       162,       164,       166,       168,       170,       172,       174,       176,       178,       180,       182,       184,       186,       188,       190,       192,       194,       196,       198,       200,       202,       204,       206,       208,       210,       212,       214,       216,       218,       220,       222,       224,       226,       228,       230,       232,       234,       236,       238,       240,       242,       244,       246,       248,       250,       252,       254,       256,       258,       260,       262,       264,       266,       268,       270,       272,       274,       276,       278,       280,       282,       284,       286,       288,       290,       292,       294,       296,       298,       300,       302,       304,       306,       308,       310,       312,       314,       316,       318,       320,       322,       324,       326,       328,       330,       332,       334,       336,       338,       340,       342,       344,       346,       348,       350,       352,       354,       356,       358,       360,       362,       364,       366,       368,       370,       372,       374,       376,       378,       380,       382,       384,       386,       388,       390,       392,       394,       396,       398,       400,       402,       404,       406,       408,       410,       412,       414,       416,       418,       420,       422,       424,       426,       428,       430,       432,       434,       436,       438,       440,       442,       444,       446,       448,       450,       452,       454,       456,       458,       460,       462,       464,       466,       468,       470,       472,       474,       476,       478,       480,       482,       484,       486,       488,       490,       492,       494,       496,       498,       500,       502,       504,       506,       508,       510,       512,       514,       516,       518,       520,       522,       524,       526,       528,       530,       532,       534,       536,       538,       540,       542,       544,       546,       548,       550,       552,       554,       556,       558,       560,       562,       564,       566,       568,       570,       572,       574,       576,       578,       580,       582,       584,       586,       588,       590,       592,       594,       596,       598,       600,       602,       604,       606,       608,       610,       612,       614,       616,       618,       620,       622,       624,       626,       628,       630,       632,       634,       636,       638,       640,       642,       644,       646,       648,       650,       652,       654,       656,       658,       660,       662,       664,       666,       668,       670,       672,       674,       676,       678,       680,       682,       684,       686,       688,       690,       692,       694,       696,       698,       700,       702,       704,       706,       708,       710,       712,       714,       716,       718,       720,       722,       724,       726,       728,       730,       732,       734,       736,       738,       740,       742,       744,       746,       748,       750,       752,       754,       756,       758,       760,       762,       764,       766,       768,       770,       772,       774,       776,       778,       780,       782,       784,       786,       788,       790,       792,       794,       796,       798,       800,       802,       804,       806,       808,       810,       812,       814,       816,       818,       820,       822,       824,       826,       828,       830,       832,       834,       836,       838,       840,       842,       844,       846,       848,       850,       852,       854,       856,       858,       860,       862,       864,       866,       868,       870,       872,       874,       876,       878,       880,       882,       884,       886,       888,       890,       892,       894,       896,       898,       900,       902,       904,       906,       908,       910,       912,       914,       916,       918,       920,       922,       924,       926,       928,       930,       932,       934,       936,       938,       940,       942,       944,       946,       948,       950,       952,       954,       956,       958,       960,       962,       964,       966,       968,       970,       972,       974,       976,       978,       980,       982,       984,       986,       988,       990,       992,       994,       996,       998,       1000,       "
     ]
    }
   ],
   "source": [
    "i = 0 \n",
    "while i <= 1000 :\n",
    "    if i % 2 == 0 :\n",
    "        print(i, end = \",       \")\n",
    "    i += 1"
   ]
  },
  {
   "cell_type": "markdown",
   "id": "dd9a7d19",
   "metadata": {},
   "source": [
    "q6 : Define a function for all the above problem statememnt  . "
   ]
  },
  {
   "cell_type": "code",
   "execution_count": 71,
   "id": "3cfa7bfe",
   "metadata": {},
   "outputs": [],
   "source": [
    "def funn(S):\n",
    "#     pattern q1\n",
    "    i = 0\n",
    "    j = 0\n",
    "    while i < 10 :\n",
    "        j = 0\n",
    "        while j < i :\n",
    "            print('* ', end = \" \")\n",
    "            j += 1\n",
    "        print()\n",
    "        i += 1\n",
    "    \n",
    "#     pattern q2\n",
    "    l = list(\"ABCDEFGHIJKLMNopQRSTUVWXYz\")\n",
    "    t = 7\n",
    "    i = 0\n",
    "    l1 = [7,6,5,4,3,2,1]\n",
    "    while i < t :\n",
    "        j = 0\n",
    "        while j <= i :\n",
    "            if j == 0 :\n",
    "                print(l[i], end = \" \")\n",
    "            elif j == 1 :\n",
    "                print(l[i + l1[j]], end = \" \")\n",
    "            elif j == 2 :\n",
    "                print(l[i + l1[j] + l1[j] + 1], end = \" \")\n",
    "            elif j  ==  3 :\n",
    "                print(l[i + l1[j] + l1[j] +l1[j] + l1[j] -1], end = \" \")\n",
    "            elif j  ==  4 :\n",
    "                print(l[i + l1[j] + l1[j] + l1[j] + l1[j] + l1[j] + l1[j]], end = \" \")\n",
    "            elif j == 5 :\n",
    "                if i == 6 :\n",
    "                    break\n",
    "                print(l[i + l1[j] + l1[j] + l1[j] + l1[j] + l1[j] + l1[j] + l1[j] + l1[j] + 4], end = \" \")\n",
    "            j += 1\n",
    "        print()\n",
    "        i += 1\n",
    "    \n",
    "    \n",
    "    i = 0\n",
    "    while i < len(S) :\n",
    "        if S[i] in \"AEIOUaeiou\" :\n",
    "            print(S[i], end = \"    \")\n",
    "        i += 1\n",
    "    else :\n",
    "        print(\"---- vowels filtered from the string\")\n",
    "    \n",
    "    \n",
    "    i = 1 \n",
    "    while i <= 1000 :\n",
    "        if i % 2 == 0 :\n",
    "            print(i, end = \" \")\n",
    "        i += 1\n",
    "    else :\n",
    "        print(\" ---- even Nos. btween 1-1000\")\n",
    "        \n",
    "    i = 40\n",
    "    while i <= 400 :\n",
    "        if i%3 == 0 :\n",
    "            print(i, end = \"   \")\n",
    "        i += 1\n",
    "    else :\n",
    "        print(\"---- ODD Nos. btween 40-400\")"
   ]
  },
  {
   "cell_type": "code",
   "execution_count": 72,
   "id": "407a3c88",
   "metadata": {},
   "outputs": [
    {
     "name": "stdout",
     "output_type": "stream",
     "text": [
      "\n",
      "*  \n",
      "*  *  \n",
      "*  *  *  \n",
      "*  *  *  *  \n",
      "*  *  *  *  *  \n",
      "*  *  *  *  *  *  \n",
      "*  *  *  *  *  *  *  \n",
      "*  *  *  *  *  *  *  *  \n",
      "*  *  *  *  *  *  *  *  *  \n",
      "A \n",
      "B H \n",
      "C I N \n",
      "D J o S \n",
      "E K p T W \n",
      "F L Q U X z \n",
      "G M R V Y \n",
      "A    u    e    ---- vowels filtered from the string\n",
      "2 4 6 8 10 12 14 16 18 20 22 24 26 28 30 32 34 36 38 40 42 44 46 48 50 52 54 56 58 60 62 64 66 68 70 72 74 76 78 80 82 84 86 88 90 92 94 96 98 100 102 104 106 108 110 112 114 116 118 120 122 124 126 128 130 132 134 136 138 140 142 144 146 148 150 152 154 156 158 160 162 164 166 168 170 172 174 176 178 180 182 184 186 188 190 192 194 196 198 200 202 204 206 208 210 212 214 216 218 220 222 224 226 228 230 232 234 236 238 240 242 244 246 248 250 252 254 256 258 260 262 264 266 268 270 272 274 276 278 280 282 284 286 288 290 292 294 296 298 300 302 304 306 308 310 312 314 316 318 320 322 324 326 328 330 332 334 336 338 340 342 344 346 348 350 352 354 356 358 360 362 364 366 368 370 372 374 376 378 380 382 384 386 388 390 392 394 396 398 400 402 404 406 408 410 412 414 416 418 420 422 424 426 428 430 432 434 436 438 440 442 444 446 448 450 452 454 456 458 460 462 464 466 468 470 472 474 476 478 480 482 484 486 488 490 492 494 496 498 500 502 504 506 508 510 512 514 516 518 520 522 524 526 528 530 532 534 536 538 540 542 544 546 548 550 552 554 556 558 560 562 564 566 568 570 572 574 576 578 580 582 584 586 588 590 592 594 596 598 600 602 604 606 608 610 612 614 616 618 620 622 624 626 628 630 632 634 636 638 640 642 644 646 648 650 652 654 656 658 660 662 664 666 668 670 672 674 676 678 680 682 684 686 688 690 692 694 696 698 700 702 704 706 708 710 712 714 716 718 720 722 724 726 728 730 732 734 736 738 740 742 744 746 748 750 752 754 756 758 760 762 764 766 768 770 772 774 776 778 780 782 784 786 788 790 792 794 796 798 800 802 804 806 808 810 812 814 816 818 820 822 824 826 828 830 832 834 836 838 840 842 844 846 848 850 852 854 856 858 860 862 864 866 868 870 872 874 876 878 880 882 884 886 888 890 892 894 896 898 900 902 904 906 908 910 912 914 916 918 920 922 924 926 928 930 932 934 936 938 940 942 944 946 948 950 952 954 956 958 960 962 964 966 968 970 972 974 976 978 980 982 984 986 988 990 992 994 996 998 1000  ---- even Nos. btween 1-1000\n",
      "42   45   48   51   54   57   60   63   66   69   72   75   78   81   84   87   90   93   96   99   102   105   108   111   114   117   120   123   126   129   132   135   138   141   144   147   150   153   156   159   162   165   168   171   174   177   180   183   186   189   192   195   198   201   204   207   210   213   216   219   222   225   228   231   234   237   240   243   246   249   252   255   258   261   264   267   270   273   276   279   282   285   288   291   294   297   300   303   306   309   312   315   318   321   324   327   330   333   336   339   342   345   348   351   354   357   360   363   366   369   372   375   378   381   384   387   390   393   396   399   ---- ODD Nos. btween 40-400\n"
     ]
    }
   ],
   "source": [
    "funn(\"Ankue\")"
   ]
  },
  {
   "cell_type": "markdown",
   "id": "0e121be7",
   "metadata": {},
   "source": [
    "q7 : write a code to get a time of your system "
   ]
  },
  {
   "cell_type": "code",
   "execution_count": 38,
   "id": "0ec91fb6",
   "metadata": {},
   "outputs": [
    {
     "data": {
      "text/plain": [
       "'Sat Jun  4 '"
      ]
     },
     "execution_count": 38,
     "metadata": {},
     "output_type": "execute_result"
    }
   ],
   "source": [
    "import time\n",
    "time.asctime()[:11]"
   ]
  },
  {
   "cell_type": "markdown",
   "id": "36c2b828",
   "metadata": {},
   "source": [
    "q8 : Write a code to fetch date form your system "
   ]
  },
  {
   "cell_type": "code",
   "execution_count": 47,
   "id": "1e18eb46",
   "metadata": {},
   "outputs": [
    {
     "data": {
      "text/plain": [
       "'10:22:26 '"
      ]
     },
     "execution_count": 47,
     "metadata": {},
     "output_type": "execute_result"
    }
   ],
   "source": [
    "time.asctime()[11:-4]"
   ]
  },
  {
   "cell_type": "markdown",
   "id": "f8975b45",
   "metadata": {},
   "source": [
    "q9 : Write a code to send a mail to your friend "
   ]
  },
  {
   "cell_type": "code",
   "execution_count": null,
   "id": "4d82845f",
   "metadata": {},
   "outputs": [],
   "source": [
    "# was not able to do it.\n",
    "\n",
    "url =''\n",
    "username = ''\n",
    "pwd = ''\n"
   ]
  },
  {
   "cell_type": "markdown",
   "id": "eb07f5af",
   "metadata": {},
   "source": [
    "q10: write a code to trigger alarm for you at scheduled time "
   ]
  },
  {
   "cell_type": "code",
   "execution_count": 49,
   "id": "2d12ae74",
   "metadata": {},
   "outputs": [
    {
     "name": "stdout",
     "output_type": "stream",
     "text": [
      "C:\\Users\\Ankur  Yadav\\Documents\\jupyter\\Untitled Folder 1\\texttovoice.mp3\n"
     ]
    },
    {
     "name": "stderr",
     "output_type": "stream",
     "text": [
      "\n",
      "    Error 305 for command:\n",
      "        close \"C:\\Users\\ANKURY~1\\AppData\\Local\\Temp\\PS6efz59om.mp3\"\n",
      "    Cannot specify extra characters after a string enclosed in quotation marks.\n",
      "Failed to close the file: \"C:\\Users\\ANKURY~1\\AppData\\Local\\Temp\\PS6efz59om.mp3\"\n"
     ]
    }
   ],
   "source": [
    "import time\n",
    "import playsound\n",
    "\n",
    "alarm_time = '10:22'\n",
    "if time.asctime()[11:-8] == alarm_time :\n",
    "    absolute_path = os.path.abspath(\"texttovoice.mp3\")\n",
    "    print(absolute_path)\n",
    "    playsound.playsound(absolute_path)\n",
    "    "
   ]
  },
  {
   "cell_type": "markdown",
   "id": "7b0fcfb4",
   "metadata": {},
   "source": [
    "q11: write a code to check ip address of your system "
   ]
  },
  {
   "cell_type": "code",
   "execution_count": 50,
   "id": "8339bd0c",
   "metadata": {},
   "outputs": [],
   "source": [
    "import socket\n",
    "\n",
    "HOST = socket.gethostname()\n",
    "IP = socket.gethostbyname(HOST)\n",
    "IP"
   ]
  },
  {
   "cell_type": "markdown",
   "id": "712ec2fc",
   "metadata": {},
   "source": [
    "q12: Write a code to check a particular installation in your system"
   ]
  },
  {
   "cell_type": "code",
   "execution_count": 74,
   "id": "cfeab667",
   "metadata": {},
   "outputs": [
    {
     "data": {
      "text/plain": [
       "[InstalledApplication(name='ELAN Touchpad 12.11.3.2_X64_Beta', version='12.11.3.2', install_date=None, install_location=None, install_source=None, modify_path=None, publisher='ELAN Microelectronic Corp.', uninstall_string='%ProgramFiles%\\\\Elantech\\\\ETDUn_inst.exe'),\n",
       " InstalledApplication(name='Git version 2.32.0', version='2.32.0', install_date=datetime.date(2021, 6, 27), install_location=WindowsPath('C:/Program Files/Git'), install_source=None, modify_path=None, publisher='The Git Development Community', uninstall_string='\"C:\\\\Program Files\\\\Git\\\\unins000.exe\"'),\n",
       " InstalledApplication(name='Maxon Cinema 4D R21', version='R21', install_date=datetime.date(2021, 2, 5), install_location=WindowsPath('C:/Program Files/Maxon Cinema 4D R21'), install_source=None, modify_path=None, publisher='Maxon', uninstall_string='\"C:\\\\Program Files\\\\Maxon Cinema 4D R21\\\\uninstall.exe\"'),\n",
       " InstalledApplication(name='Mozilla Firefox (x64 en-US)', version='100.0.2', install_date=None, install_location=WindowsPath('C:/Program Files/Mozilla Firefox'), install_source=None, modify_path=None, publisher='Mozilla', uninstall_string='\"C:\\\\Program Files\\\\Mozilla Firefox\\\\uninstall\\\\helper.exe\"'),\n",
       " InstalledApplication(name='Mozilla Maintenance Service', version='87.0', install_date=None, install_location=None, install_source=None, modify_path=None, publisher='Mozilla', uninstall_string='\"C:\\\\Program Files (x86)\\\\Mozilla Maintenance Service\\\\uninstall.exe\"'),\n",
       " InstalledApplication(name='Microsoft Office Professional Plus 2019 - en-us', version='16.0.15225.20204', install_date=None, install_location=WindowsPath('C:/Program Files (x86)/Microsoft Office'), install_source=None, modify_path='\"C:\\\\Program Files\\\\Common Files\\\\Microsoft Shared\\\\ClickToRun\\\\OfficeClickToRun.exe\" scenario=repair platform=x86 culture=en-us', publisher='Microsoft Corporation', uninstall_string='\"C:\\\\Program Files\\\\Common Files\\\\Microsoft Shared\\\\ClickToRun\\\\OfficeClickToRun.exe\" scenario=install scenariosubtype=ARP sourcetype=None productstoremove=ProPlus2019Retail.16_en-us_x-none culture=en-us version.16=16.0'),\n",
       " InstalledApplication(name='Pulse Secure Setup Client 64-bit Activex Control', version='3.1.1.1', install_date=None, install_location=None, install_source=None, modify_path=None, publisher='Pulse Secure, LLC', uninstall_string='C:\\\\WINDOWS\\\\Downloaded Program Files\\\\PulseSetupClientCtrlUninstaller64.exe'),\n",
       " InstalledApplication(name='Riot Vanguard', version=None, install_date=None, install_location=WindowsPath('C:/Program Files/Riot Vanguard'), install_source=None, modify_path=None, publisher='Riot Games, Inc.', uninstall_string='\"C:\\\\Program Files\\\\Riot Vanguard\\\\uninstall.exe\"'),\n",
       " InstalledApplication(name='SUPER PEOPLE CBT', version=None, install_date=None, install_location=WindowsPath('D:/steam/steamapps/common/SUPER PEOPLE Playtest'), install_source=None, modify_path=None, publisher='', uninstall_string='\"D:\\\\steam\\\\steam.exe\" steam://uninstall/1619990'),\n",
       " InstalledApplication(name='VLC media player', version='3.0.16', install_date=None, install_location=WindowsPath('C:/Program Files/VideoLAN/VLC'), install_source=None, modify_path=None, publisher='VideoLAN', uninstall_string='\"C:\\\\Program Files\\\\VideoLAN\\\\VLC\\\\uninstall.exe\"'),\n",
       " InstalledApplication(name='WinRAR 6.00 (64-bit)', version='6.00.0', install_date=None, install_location=WindowsPath('C:/Program Files/WinRAR'), install_source=None, modify_path=None, publisher='win.rar GmbH', uninstall_string='C:\\\\Program Files\\\\WinRAR\\\\uninstall.exe'),\n",
       " InstalledApplication(name='Intel(R) Management Engine Components', version='1914.12.0.1255', install_date=None, install_location=WindowsPath('C:/Program Files (x86)/Intel/Intel(R) Management Engine Components'), install_source=None, modify_path=None, publisher='Intel Corporation', uninstall_string='\"C:\\\\ProgramData\\\\Intel\\\\Package Cache\\\\{1CEAC85D-2590-4760-800F-8DE5E91F3700}\\\\Setup.exe\" -uninstall'),\n",
       " InstalledApplication(name='Microsoft Visual C++ 2010  x64 Redistributable - 10.0.40219', version='10.0.40219', install_date=datetime.date(2021, 2, 5), install_location='', install_source=WindowsPath('d:/75b04f5caa3b170c2858bda2e6e0'), modify_path='MsiExec.exe /X{1D8E6291-B0D5-35EC-8441-6616F567A0F7}', publisher='Microsoft Corporation', uninstall_string='MsiExec.exe /X{1D8E6291-B0D5-35EC-8441-6616F567A0F7}'),\n",
       " InstalledApplication(name='Microsoft OLE DB Driver 19 for SQL Server', version='19.0.0.0', install_date=datetime.date(2022, 3, 3), install_location='', install_source=WindowsPath('C:/Users/Ankur  Yadav/Downloads/Programs'), modify_path='MsiExec.exe /I{2059F654-7391-4A33-B598-A3456C0E8363}', publisher='Microsoft Corporation', uninstall_string='MsiExec.exe /I{2059F654-7391-4A33-B598-A3456C0E8363}'),\n",
       " InstalledApplication(name='Java 8 Update 321 (64-bit)', version='8.0.3210.7', install_date=datetime.date(2022, 3, 20), install_location=WindowsPath('C:/Program Files/Java/jre1.8.0_321'), install_source=WindowsPath('C:/Users/Ankur  Yadav/AppData/LocalLow/Oracle/Java/jre1.8.0_321_x64'), modify_path='MsiExec.exe /X{26A24AE4-039D-4CA4-87B4-2F64180321F0}', publisher='Oracle Corporation', uninstall_string='MsiExec.exe /X{26A24AE4-039D-4CA4-87B4-2F64180321F0}'),\n",
       " InstalledApplication(name='Microsoft Web Deploy 4.0', version='10.0.3802', install_date=datetime.date(2021, 3, 13), install_location='', install_source=WindowsPath('D:/pakage/Microsoft.VisualStudio.WebDeploy.Msi,version=16.9.31004.209,chip=x64'), modify_path='MsiExec.exe /I{2EC26D34-FB67-4C58-AC20-235697551222}', publisher='Microsoft Corporation', uninstall_string='MsiExec.exe /I{2EC26D34-FB67-4C58-AC20-235697551222}'),\n",
       " InstalledApplication(name='Intel(R) Rapid Storage Technology', version='15.2.7.1042', install_date=None, install_location=WindowsPath('C:/Program Files/Intel/Intel(R) Rapid Storage Technology'), install_source=None, modify_path=None, publisher='Intel Corporation', uninstall_string='\"C:\\\\ProgramData\\\\Intel\\\\Package Cache\\\\{409CB30E-E457-4008-9B1A-ED1B9EA21140}\\\\Setup.exe\" -uninstall'),\n",
       " InstalledApplication(name='Java SE Development Kit 8 Update 281 (64-bit)', version='8.0.2810.9', install_date=datetime.date(2021, 3, 29), install_location=WindowsPath('C:/Program Files/Java/jdk1.8.0_281'), install_source=WindowsPath('C:/Users/Ankur  Yadav/AppData/LocalLow/Oracle/Java/jdk1.8.0_281_x64'), modify_path='MsiExec.exe /X{64A3A4F4-B792-11D6-A78A-00B0D0180281}', publisher='Oracle Corporation', uninstall_string='MsiExec.exe /X{64A3A4F4-B792-11D6-A78A-00B0D0180281}'),\n",
       " InstalledApplication(name='Windows PC Health Check', version='3.6.2204.08001', install_date=datetime.date(2022, 4, 26), install_location='', install_source=WindowsPath('C:/WINDOWS/SoftwareDistribution/Download/8c65a163c8c24c7e95c0237bfc859210/img'), modify_path='MsiExec.exe /X{6798C408-2636-448C-8AC6-F4E341102D27}', publisher='Microsoft Corporation', uninstall_string='MsiExec.exe /X{6798C408-2636-448C-8AC6-F4E341102D27}'),\n",
       " InstalledApplication(name='Microsoft Update Health Tools', version='3.67.0.0', install_date=datetime.date(2022, 4, 6), install_location='', install_source=WindowsPath('C:/WINDOWS/TEMP/A66A5B33-F47C-494D-B5DA-74211AEE29A9'), modify_path='MsiExec.exe /X{7B1FCD52-8F6B-4F12-A143-361EA39F5E7C}', publisher='Microsoft Corporation', uninstall_string='MsiExec.exe /X{7B1FCD52-8F6B-4F12-A143-361EA39F5E7C}'),\n",
       " InstalledApplication(name='Intel(R) Serial IO', version='30.100.1633.3', install_date=None, install_location=WindowsPath('C:/Program Files/Intel/Intel(R) Serial IO'), install_source=None, modify_path=None, publisher='Intel Corporation', uninstall_string='\"C:\\\\ProgramData\\\\Intel\\\\Package Cache\\\\{9FD91C5C-44AE-4D9D-85BE-AE52816B0294}\\\\Setup.exe\" -uninstall'),\n",
       " InstalledApplication(name='NVIDIA 3D Vision Driver 398.36', version='398.36', install_date=datetime.date(2021, 2, 14), install_location=WindowsPath('C:/Program Files (x86)/NVIDIA Corporation/3D Vision'), install_source=WindowsPath('C:/Program Files/NVIDIA Corporation/Installer2/Display.3DVision.{4633CD19-519C-4047-BCA4-4A26890EBCCD}'), modify_path='', publisher='NVIDIA Corporation', uninstall_string='\"C:\\\\WINDOWS\\\\SysWOW64\\\\RunDll32.EXE\" \"C:\\\\Program Files\\\\NVIDIA Corporation\\\\Installer2\\\\InstallerCore\\\\NVI2.DLL\",UninstallPackage Display.3DVision'),\n",
       " InstalledApplication(name='NVIDIA Graphics Driver 398.36', version='398.36', install_date=datetime.date(2021, 2, 14), install_location=WindowsPath('C:/Program Files/NVIDIA Corporation/Installer2/Display.Driver.{9563A655-E734-4F86-8DBE-3377EA431739}'), install_source=WindowsPath('C:/Program Files/NVIDIA Corporation/Installer2/Display.Driver.{9563A655-E734-4F86-8DBE-3377EA431739}'), modify_path='', publisher='NVIDIA Corporation', uninstall_string='\"C:\\\\WINDOWS\\\\SysWOW64\\\\RunDll32.EXE\" \"C:\\\\Program Files\\\\NVIDIA Corporation\\\\Installer2\\\\InstallerCore\\\\NVI2.DLL\",UninstallPackage Display.Driver'),\n",
       " InstalledApplication(name='Dell SupportAssist', version='3.10.4.18', install_date=datetime.date(2021, 11, 23), install_location=WindowsPath('C:/Program Files/Dell/SupportAssistAgent'), install_source=WindowsPath('C:/WINDOWS/TEMP/SupportAssistAgent/AutoUpdate'), modify_path='MsiExec.exe /X{E0659C89-D276-4B77-A5EC-A8F2F042E78F}', publisher='Dell Inc.', uninstall_string='MsiExec.exe /X{E0659C89-D276-4B77-A5EC-A8F2F042E78F}'),\n",
       " InstalledApplication(name='Adobe After Effects 2020', version='17.0', install_date=datetime.date(2021, 2, 5), install_location=WindowsPath('D:/after effects'), install_source=None, modify_path=None, publisher='Adobe Systems Incorporated', uninstall_string='\"C:\\\\Program Files (x86)\\\\Common Files\\\\Adobe\\\\Adobe Desktop Common\\\\HDBox\\\\Uninstaller.exe\" --uninstall=1 --sapCode=AEFT --productVersion=17.0 --productPlatform=win64 --productAdobeCode={AEFT-17.0-64-ADBEADBEADBEADBEADBEADB} --productName=\"After Effects\" --mode=1'),\n",
       " InstalledApplication(name='Brave', version='102.1.39.111', install_date=datetime.date(2022, 5, 25), install_location=WindowsPath('C:/Program Files/BraveSoftware/Brave-Browser/Application'), install_source=None, modify_path=None, publisher='Brave Software Inc', uninstall_string='\"C:\\\\Program Files\\\\BraveSoftware\\\\Brave-Browser\\\\Application\\\\102.1.39.111\\\\Installer\\\\setup.exe\" --uninstall --system-level'),\n",
       " InstalledApplication(name='Google Chrome', version='102.0.5005.63', install_date=datetime.date(2022, 6, 1), install_location=WindowsPath('C:/Program Files/Google/Chrome/Application'), install_source=None, modify_path=None, publisher='Google LLC', uninstall_string='\"C:\\\\Program Files\\\\Google\\\\Chrome\\\\Application\\\\102.0.5005.63\\\\Installer\\\\setup.exe\" --uninstall --channel=stable --system-level --verbose-logging'),\n",
       " InstalledApplication(name='Adobe Illustrator 2021', version='25.0.1', install_date=datetime.date(2021, 2, 5), install_location=WindowsPath('C:/Program Files/Adobe/Adobe Illustrator 2021'), install_source=None, modify_path=None, publisher='Adobe Inc.', uninstall_string='\"C:\\\\Program Files (x86)\\\\Common Files\\\\Adobe\\\\Adobe Desktop Common\\\\HDBox\\\\Uninstaller.exe\" --uninstall=1 --sapCode=ILST --productVersion=25.0.1 --productPlatform=win64 --productAdobeCode={ILST-25.0.1-64-ADBEADBEADBEADBEADBEA} --productName=\"Illustrator\" --mode=1'),\n",
       " InstalledApplication(name='Internet Download Manager', version='6.38.16', install_date=None, install_location=None, install_source=None, modify_path=None, publisher='Tonec Inc.', uninstall_string='C:\\\\Program Files (x86)\\\\Internet Download Manager\\\\Uninstall.exe'),\n",
       " InstalledApplication(name='K-Lite Codec Pack 13.7.5 Full', version='13.7.5', install_date=datetime.date(2021, 4, 3), install_location=WindowsPath('C:/Program Files (x86)/K-Lite Codec Pack'), install_source=None, modify_path=None, publisher='KLCP', uninstall_string='\"C:\\\\Program Files (x86)\\\\K-Lite Codec Pack\\\\unins000.exe\"'),\n",
       " InstalledApplication(name='MEGAsync', version='', install_date=None, install_location=None, install_source=None, modify_path=None, publisher='Mega Limited', uninstall_string='C:\\\\Users\\\\Ankur  Yadav\\\\AppData\\\\Local\\\\MEGAsync\\\\uninst.exe'),\n",
       " InstalledApplication(name='Microsoft Edge', version='102.0.1245.30', install_date=datetime.date(2022, 6, 2), install_location=WindowsPath('C:/Program Files (x86)/Microsoft/Edge/Application'), install_source=None, modify_path='\"C:\\\\Program Files (x86)\\\\Microsoft\\\\EdgeUpdate\\\\MicrosoftEdgeUpdate.exe\" /install appguid={56EB18F8-B008-4CBD-B6D2-8C97FE7E9062}&appname=Microsoft%20Edge&needsadmin=true&repairtype=windowsonlinerepair /installsource windowsupdate', publisher='Microsoft Corporation', uninstall_string='\"C:\\\\Program Files (x86)\\\\Microsoft\\\\Edge\\\\Application\\\\102.0.1245.30\\\\Installer\\\\setup.exe\" --uninstall --msedge --channel=stable --system-level --verbose-logging'),\n",
       " InstalledApplication(name='Microsoft Edge Update', version='1.3.161.35', install_date=None, install_location=None, install_source=None, modify_path=None, publisher=None, uninstall_string=None),\n",
       " InstalledApplication(name='Microsoft Edge WebView2 Runtime', version='101.0.1210.53', install_date=datetime.date(2022, 6, 2), install_location=WindowsPath('C:/Program Files (x86)/Microsoft/EdgeWebView/Application'), install_source=None, modify_path='\"C:\\\\Program Files (x86)\\\\Microsoft\\\\EdgeUpdate\\\\MicrosoftEdgeUpdate.exe\" /install appguid={F3017226-FE2A-4295-8BDF-00C3A9A7E4C5}&appname=Microsoft%20Edge%20WebView&needsadmin=true&repairtype=windowsonlinerepair /installsource windowsonlinerepair', publisher='Microsoft Corporation', uninstall_string='\"C:\\\\Program Files (x86)\\\\Microsoft\\\\EdgeWebView\\\\Application\\\\101.0.1210.53\\\\Installer\\\\setup.exe\" --uninstall --msedgewebview --system-level --verbose-logging'),\n",
       " InstalledApplication(name='Notepad++ (32-bit x86)', version='8.3.3', install_date=None, install_location=None, install_source=None, modify_path=None, publisher='Notepad++ Team', uninstall_string='\"C:\\\\Program Files (x86)\\\\Notepad++\\\\uninstall.exe\"'),\n",
       " InstalledApplication(name='Adobe Photoshop 2021', version='22.1.1.138', install_date=datetime.date(2021, 2, 5), install_location=WindowsPath('C:/Program Files/Adobe/Adobe Photoshop 2021'), install_source=None, modify_path=None, publisher='Adobe Inc.', uninstall_string='\"C:\\\\Program Files (x86)\\\\Common Files\\\\Adobe\\\\Adobe Desktop Common\\\\HDBox\\\\Uninstaller.exe\" --uninstall=1 --sapCode=PHSP --productVersion=22.1.1 --productPlatform=win64 --productAdobeCode={PHSP-22.1.1-64-ADBEADBEADBEADBEADBEA} --productName=\"Photoshop\" --mode=1'),\n",
       " InstalledApplication(name='Pulse Secure Setup Client Activex Control', version='3.1.1.1', install_date=None, install_location=None, install_source=None, modify_path=None, publisher='Pulse Secure, LLC', uninstall_string='C:\\\\WINDOWS\\\\Downloaded Program Files\\\\PulseSetupClientCtrlUninstaller.exe'),\n",
       " InstalledApplication(name='PyCharm Community Edition 2020.3.5', version='203.7717.81', install_date=None, install_location=WindowsPath('D:/PyCharm Community Edition 2020.3.5'), install_source=None, modify_path=None, publisher='JetBrains s.r.o.', uninstall_string='D:\\\\PyCharm Community Edition 2020.3.5\\\\bin\\\\Uninstall.exe'),\n",
       " InstalledApplication(name='Steam', version='2.10.91.91', install_date=None, install_location=None, install_source=None, modify_path=None, publisher='Valve Corporation', uninstall_string='D:\\\\steam\\\\uninstall.exe'),\n",
       " InstalledApplication(name='Intel(R) Wireless Bluetooth(R)', version='21.20.0.4', install_date=datetime.date(2021, 2, 5), install_location='', install_source=WindowsPath('C:/Windows/Installer/_{00000020-0210-1033-84C8-B8D95FA3C8C3}'), modify_path='MsiExec.exe /I{00000020-0210-1033-84C8-B8D95FA3C8C3}', publisher='Intel Corporation', uninstall_string='MsiExec.exe /I{00000020-0210-1033-84C8-B8D95FA3C8C3}'),\n",
       " InstalledApplication(name='Zapya PC', version='2.8.0.3', install_date=datetime.date(2021, 12, 8), install_location=WindowsPath('C:/Program Files (x86)/Zapya/ZapyaPC'), install_source=None, modify_path=None, publisher='DewMobile,Inc.', uninstall_string='\"C:\\\\Program Files (x86)\\\\Zapya\\\\ZapyaPC\\\\unins000.exe\"'),\n",
       " InstalledApplication(name='Java 8 Update 321', version='8.0.3210.7', install_date=datetime.date(2022, 3, 20), install_location=WindowsPath('C:/Program Files (x86)/Java/jre1.8.0_321'), install_source=WindowsPath('C:/Users/Ankur  Yadav/AppData/LocalLow/Oracle/Java/jre1.8.0_321'), modify_path='MsiExec.exe /X{26A24AE4-039D-4CA4-87B4-2F32180321F0}', publisher='Oracle Corporation', uninstall_string='MsiExec.exe /X{26A24AE4-039D-4CA4-87B4-2F32180321F0}'),\n",
       " InstalledApplication(name='Microsoft Visual C++ 2012 Redistributable (x86) - 11.0.61030', version='11.0.61030.0', install_date=None, install_location=None, install_source=None, modify_path='\"C:\\\\ProgramData\\\\Package Cache\\\\{33d1fd90-4274-48a1-9bc1-97e33d9c2d6f}\\\\vcredist_x86.exe\" /modify', publisher='Microsoft Corporation', uninstall_string='\"C:\\\\ProgramData\\\\Package Cache\\\\{33d1fd90-4274-48a1-9bc1-97e33d9c2d6f}\\\\vcredist_x86.exe\"  /uninstall'),\n",
       " InstalledApplication(name='GeeGeeClient', version='1.1.20.0', install_date=datetime.date(2021, 12, 17), install_location=WindowsPath('C:/Program Files (x86)/WonderPeople'), install_source=WindowsPath('C:/Users/Ankur  Yadav/AppData/Roaming/WonderPeople/GeeGeeClient 1.1.20.0/install'), modify_path='MsiExec.exe /X{4098FA2E-B92A-491F-A3FE-08D0B4F48358}', publisher='WonderPeople', uninstall_string='MsiExec.exe /X{4098FA2E-B92A-491F-A3FE-08D0B4F48358}'),\n",
       " InstalledApplication(name='Microsoft Visual C++ 2013 Redistributable (x86) - 12.0.40660', version='12.0.40660.0', install_date=None, install_location=None, install_source=None, modify_path='\"C:\\\\ProgramData\\\\Package Cache\\\\{61087a79-ac85-455c-934d-1fa22cc64f36}\\\\vcredist_x86.exe\" /modify', publisher='Microsoft Corporation', uninstall_string='\"C:\\\\ProgramData\\\\Package Cache\\\\{61087a79-ac85-455c-934d-1fa22cc64f36}\\\\vcredist_x86.exe\"  /uninstall'),\n",
       " InstalledApplication(name='Microsoft Visual C++ 2015-2019 Redistributable (x64) - 14.26.28720', version='14.26.28720.3', install_date=None, install_location=None, install_source=None, modify_path='\"C:\\\\ProgramData\\\\Package Cache\\\\{7d607fb4-7e28-4c7a-a92f-3fcdaf555faf}\\\\VC_redist.x64.exe\" /modify', publisher='Microsoft Corporation', uninstall_string='\"C:\\\\ProgramData\\\\Package Cache\\\\{7d607fb4-7e28-4c7a-a92f-3fcdaf555faf}\\\\VC_redist.x64.exe\"  /uninstall'),\n",
       " InstalledApplication(name='Python Launcher', version='3.10.7644.0', install_date=datetime.date(2021, 12, 31), install_location='', install_source=WindowsPath('C:/ProgramData/Package Cache/{7DE12550-BE09-44DD-BDB4-0EC26BA89DAF}v3.10.7644.0'), modify_path='MsiExec.exe /X{7DE12550-BE09-44DD-BDB4-0EC26BA89DAF}', publisher='Python Software Foundation', uninstall_string='MsiExec.exe /X{7DE12550-BE09-44DD-BDB4-0EC26BA89DAF}'),\n",
       " InstalledApplication(name='Intel® PROSet/Wireless Software', version='21.20.1', install_date=None, install_location=None, install_source=None, modify_path='\"C:\\\\ProgramData\\\\Package Cache\\\\{86f7f90f-40a4-4cf2-b9dc-cfde74107a2f}\\\\ISetup.exe\" /modify', publisher='Intel Corporation', uninstall_string='\"C:\\\\ProgramData\\\\Package Cache\\\\{86f7f90f-40a4-4cf2-b9dc-cfde74107a2f}\\\\ISetup.exe\"  /uninstall'),\n",
       " InstalledApplication(name='Epic Games Launcher', version='1.2.11.0', install_date=datetime.date(2021, 3, 27), install_location=WindowsPath('D:/New Folder/Epic Games'), install_source=WindowsPath('C:/Users/Ankur  Yadav/Downloads/Programs'), modify_path='MsiExec.exe /X{A2FB1E1A-55D9-4511-A0BF-DEAD0493FBBC}', publisher='Epic Games, Inc.', uninstall_string='MsiExec.exe /X{A2FB1E1A-55D9-4511-A0BF-DEAD0493FBBC}'),\n",
       " InstalledApplication(name='Microsoft .NET Runtime - 5.0.17 (x64)', version='5.0.17.31213', install_date=None, install_location=None, install_source=None, modify_path='\"C:\\\\ProgramData\\\\Package Cache\\\\{a699b48e-5748-4980-ad92-0b61b1d9d718}\\\\dotnet-runtime-5.0.17-win-x64.exe\" /modify', publisher='Microsoft Corporation', uninstall_string='\"C:\\\\ProgramData\\\\Package Cache\\\\{a699b48e-5748-4980-ad92-0b61b1d9d718}\\\\dotnet-runtime-5.0.17-win-x64.exe\"  /uninstall'),\n",
       " InstalledApplication(name='Microsoft Visual C++ 2015-2019 Redistributable (x64) - 14.28.29334', version='14.28.29334.0', install_date=None, install_location=None, install_source=None, modify_path='\"C:\\\\ProgramData\\\\Package Cache\\\\{a9cfe9c7-e54f-46cd-9c5c-542ff8e3e8c4}\\\\VC_redist.x64.exe\" /modify', publisher='Microsoft Corporation', uninstall_string='\"C:\\\\ProgramData\\\\Package Cache\\\\{a9cfe9c7-e54f-46cd-9c5c-542ff8e3e8c4}\\\\VC_redist.x64.exe\"  /uninstall'),\n",
       " InstalledApplication(name='Microsoft Visual C++ 2015-2019 Redistributable (x86) - 14.28.29334', version='14.28.29334.0', install_date=None, install_location=None, install_source=None, modify_path='\"C:\\\\ProgramData\\\\Package Cache\\\\{b2d0f752-adc5-496e-8f70-8669de01f746}\\\\VC_redist.x86.exe\" /modify', publisher='Microsoft Corporation', uninstall_string='\"C:\\\\ProgramData\\\\Package Cache\\\\{b2d0f752-adc5-496e-8f70-8669de01f746}\\\\VC_redist.x86.exe\"  /uninstall'),\n",
       " InstalledApplication(name='Microsoft Visual C++ 2012 Redistributable (x64) - 11.0.61030', version='11.0.61030.0', install_date=None, install_location=None, install_source=None, modify_path='\"C:\\\\ProgramData\\\\Package Cache\\\\{ca67548a-5ebe-413a-b50c-4b9ceb6d66c6}\\\\vcredist_x64.exe\" /modify', publisher='Microsoft Corporation', uninstall_string='\"C:\\\\ProgramData\\\\Package Cache\\\\{ca67548a-5ebe-413a-b50c-4b9ceb6d66c6}\\\\vcredist_x64.exe\"  /uninstall'),\n",
       " InstalledApplication(name='Dell SupportAssist Remediation', version='5.5.0.16041', install_date=None, install_location=None, install_source=None, modify_path='\"C:\\\\ProgramData\\\\Package Cache\\\\{db72dcd5-bf99-4888-b104-cb605b82ec8a}\\\\DellSupportAssistRemediationServiceInstaller.exe\" /modify', publisher='Dell Inc.', uninstall_string='\"C:\\\\ProgramData\\\\Package Cache\\\\{db72dcd5-bf99-4888-b104-cb605b82ec8a}\\\\DellSupportAssistRemediationServiceInstaller.exe\"  /uninstall'),\n",
       " InstalledApplication(name='Dell SupportAssist OS Recovery Plugin for Dell Update', version='5.4.1.14954', install_date=None, install_location=None, install_source=None, modify_path='\"C:\\\\ProgramData\\\\Package Cache\\\\{ec40a028-983b-4213-af2c-77ed6f6fe1d5}\\\\DellUpdateSupportAssistPlugin.exe\" /modify', publisher='Dell Inc.', uninstall_string='\"C:\\\\ProgramData\\\\Package Cache\\\\{ec40a028-983b-4213-af2c-77ed6f6fe1d5}\\\\DellUpdateSupportAssistPlugin.exe\"  /uninstall'),\n",
       " InstalledApplication(name='Microsoft Visual C++ 2013 Redistributable (x64) - 12.0.40660', version='12.0.40660.0', install_date=None, install_location=None, install_source=None, modify_path='\"C:\\\\ProgramData\\\\Package Cache\\\\{ef6b00ec-13e1-4c25-9064-b2f383cb8412}\\\\vcredist_x64.exe\" /modify', publisher='Microsoft Corporation', uninstall_string='\"C:\\\\ProgramData\\\\Package Cache\\\\{ef6b00ec-13e1-4c25-9064-b2f383cb8412}\\\\vcredist_x64.exe\"  /uninstall'),\n",
       " InstalledApplication(name='Microsoft Visual C++ 2010  x86 Redistributable - 10.0.40219', version='10.0.40219', install_date=datetime.date(2021, 2, 5), install_location='', install_source=WindowsPath('d:/85f165b67528ae5d1eb22f2c25f5'), modify_path='MsiExec.exe /X{F0C3E5D1-1ADE-321E-8167-68EF0DE699A5}', publisher='Microsoft Corporation', uninstall_string='MsiExec.exe /X{F0C3E5D1-1ADE-321E-8167-68EF0DE699A5}'),\n",
       " InstalledApplication(name='Realtek High Definition Audio Driver', version='6.0.1.8142', install_date=None, install_location=WindowsPath('C:/Program Files/Realtek/Audio/HDA'), install_source=None, modify_path=None, publisher='Realtek Semiconductor Corp.', uninstall_string='C:\\\\Program Files\\\\Realtek\\\\Audio\\\\HDA\\\\RtlUpd64.exe -r -m -nrg2709'),\n",
       " InstalledApplication(name='Intel(R) C++ Redistributables on Intel(R) 64', version='15.0.179', install_date=datetime.date(2021, 2, 5), install_location='', install_source=WindowsPath('D:/adobeTemp/ETR5644.tmp/1/support/keyfiles/CustomHook/win'), modify_path='MsiExec.exe /X{F70BCE36-25F2-4475-A918-6209B3D85BF3}', publisher='Intel Corporation', uninstall_string='MsiExec.exe /X{F70BCE36-25F2-4475-A918-6209B3D85BF3}')]"
      ]
     },
     "execution_count": 74,
     "metadata": {},
     "output_type": "execute_result"
    }
   ],
   "source": [
    "import winapps\n",
    "\n",
    "list(winapps.list_installed())"
   ]
  },
  {
   "cell_type": "markdown",
   "id": "92f94958",
   "metadata": {},
   "source": [
    "q13: Write a code to convert any text in to voice "
   ]
  },
  {
   "cell_type": "code",
   "execution_count": 51,
   "id": "1a7828c1",
   "metadata": {},
   "outputs": [
    {
     "name": "stdout",
     "output_type": "stream",
     "text": [
      "C:\\Users\\Ankur  Yadav\\Documents\\jupyter\\Untitled Folder 1\\texttovoice.mp3\n"
     ]
    },
    {
     "name": "stderr",
     "output_type": "stream",
     "text": [
      "\n",
      "    Error 305 for command:\n",
      "        close \"C:\\Users\\ANKURY~1\\AppData\\Local\\Temp\\PS2z0ockou.mp3\"\n",
      "    Cannot specify extra characters after a string enclosed in quotation marks.\n",
      "Failed to close the file: \"C:\\Users\\ANKURY~1\\AppData\\Local\\Temp\\PS2z0ockou.mp3\"\n"
     ]
    }
   ],
   "source": [
    "from gtts import gTTS\n",
    "\n",
    "import playsound\n",
    "\n",
    "import os\n",
    "\n",
    "# text and language\n",
    "texT = \"Hello World\"\n",
    "lan = 'en'\n",
    "\n",
    "# reading text converting to voice, passing language\n",
    "file = gTTS(text = texT, lang = lan)\n",
    "file.save(\"texttovoice.mp3\")\n",
    "\n",
    "# getting path\n",
    "absolute_path = os.path.abspath(\"texttovoice.mp3\")\n",
    "print(absolute_path)\n",
    "\n",
    "# playing sound\n",
    "playsound.playsound(absolute_path)"
   ]
  },
  {
   "cell_type": "markdown",
   "id": "c4e10cc4",
   "metadata": {},
   "source": [
    "q14 : you have to write a fun which will take string and return a len of \n",
    "it without using a inbuilt fun len\n"
   ]
  },
  {
   "cell_type": "code",
   "execution_count": 55,
   "id": "f5d321ad",
   "metadata": {},
   "outputs": [
    {
     "name": "stdout",
     "output_type": "stream",
     "text": [
      "enter text rrr\n",
      "length :  3\n"
     ]
    }
   ],
   "source": [
    "string = input(\"enter text \")\n",
    "\n",
    "def length(S) :\n",
    "    c = 0\n",
    "    for i in S :\n",
    "        c += 1\n",
    "    else :\n",
    "        print('length : ', c)\n",
    "\n",
    "length(string)"
   ]
  },
  {
   "cell_type": "markdown",
   "id": "17dbe89f",
   "metadata": {},
   "source": [
    "q15 :write a fun which will be able to print an index of all premitive element which you will pass"
   ]
  },
  {
   "cell_type": "code",
   "execution_count": 35,
   "id": "11b820b5",
   "metadata": {},
   "outputs": [
    {
     "name": "stdout",
     "output_type": "stream",
     "text": [
      "enter text hello how are you?\n",
      "0  :  e\n",
      "5  :  h\n",
      "9  :  a\n",
      "13  :  y\n"
     ]
    }
   ],
   "source": [
    "# I did not understand the question thought need to print frist letter of each word in a sentence.\n",
    "\n",
    "string = input(\"enter text \")\n",
    "\n",
    "def pre_element(S) :\n",
    "    for i in range(len(S) - 1) :\n",
    "        if S[i] == ' ' or i == 0:\n",
    "            print(i, \" : \",S[i+1])\n",
    "            \n",
    "pre_element(string)"
   ]
  },
  {
   "cell_type": "markdown",
   "id": "7ab9e05c",
   "metadata": {},
   "source": [
    "q16 : Write a fun which will take input as a dict and give me out as a list of all the values \n",
    "even in case of 2 level nesting it should work . \n"
   ]
  },
  {
   "cell_type": "code",
   "execution_count": 83,
   "id": "4aeda704",
   "metadata": {},
   "outputs": [
    {
     "data": {
      "text/plain": [
       "['1', '2', 1, 2, 3, '3', 'a', 1, 2, 3, 'an', 'ku', 'r']"
      ]
     },
     "execution_count": 83,
     "metadata": {},
     "output_type": "execute_result"
    }
   ],
   "source": [
    "def lvl2nesting(d) :\n",
    "    l = []\n",
    "    if type(d) != dict :\n",
    "        return \"pass values thorugh dictionary Object\"\n",
    "    else :\n",
    "        for i in list(d.keys()) :\n",
    "            if type(i) not in (set,tuple) :\n",
    "                l.append(i)\n",
    "            else :\n",
    "                l.extend(i)\n",
    "        for j in list(d.values()) :\n",
    "            if type(j) not in (list,dict,set,tuple) :\n",
    "                l.append(j)\n",
    "            elif type(j) in (list,tuple,set) :\n",
    "                l.extend(j)\n",
    "            elif type(j) == dict :\n",
    "                for k in list(j.keys()) :\n",
    "                    if type(k) not in (set,tuple) :\n",
    "                        l.append(k)\n",
    "                    else :\n",
    "                        l.extend(k)\n",
    "                for m in list(j.values()) :\n",
    "                    if type(m) not in (list,dict,set,tuple) :\n",
    "                        l.append(m)\n",
    "                    elif type(m) in (list,tuple,set) :\n",
    "                        l.extend(m)\n",
    "    return l   \n",
    "                    \n",
    "d = {'1':[1,2,3], '2': {'3':[1,2,3], 'a':['an','ku','r']}}\n",
    "lvl2nesting(d)"
   ]
  },
  {
   "cell_type": "markdown",
   "id": "546a775e",
   "metadata": {},
   "source": [
    "q17 : write a function whihc will take multiple list as a input and give me concatnation of all the element as \n",
    "and output"
   ]
  },
  {
   "cell_type": "code",
   "execution_count": 49,
   "id": "7bb768d9",
   "metadata": {},
   "outputs": [],
   "source": [
    "def fun(*args) :\n",
    "    s = []\n",
    "    for i in args :\n",
    "        if type(i) == list :\n",
    "            s += i\n",
    "        else :\n",
    "            print(i + \" is not list but it is \" + type(i))\n",
    "    return s"
   ]
  },
  {
   "cell_type": "code",
   "execution_count": 50,
   "id": "59efe4b4",
   "metadata": {},
   "outputs": [
    {
     "data": {
      "text/plain": [
       "[1, 2, 3, 'weew', 2, 3, 4]"
      ]
     },
     "execution_count": 50,
     "metadata": {},
     "output_type": "execute_result"
    }
   ],
   "source": [
    "fun([1,2,3,\"weew\"],[2,3,4])\n",
    "\n",
    "# I am not getting any error here but still there is no ouput, Please help we with this."
   ]
  },
  {
   "cell_type": "markdown",
   "id": "8f26c412",
   "metadata": {},
   "source": [
    "q18 : Write a function which will whould return list of all the file name from a directory . "
   ]
  },
  {
   "cell_type": "code",
   "execution_count": 58,
   "id": "8fa9f1ba",
   "metadata": {},
   "outputs": [
    {
     "data": {
      "text/plain": [
       "['$Recycle.Bin',\n",
       " '$WinREAgent',\n",
       " '$WINRE_BACKUP_PARTITION.MARKER',\n",
       " 'Anaconda3',\n",
       " 'apache-maven-3.6.3',\n",
       " 'Dell',\n",
       " 'Documents and Settings',\n",
       " 'DumpStack.log',\n",
       " 'DumpStack.log.tmp',\n",
       " 'hiberfil.sys',\n",
       " 'Intel',\n",
       " 'jenki',\n",
       " 'OneDriveTemp',\n",
       " 'pagefile.sys',\n",
       " 'PerfLogs',\n",
       " 'Program Files',\n",
       " 'Program Files (x86)',\n",
       " 'ProgramData',\n",
       " 'Recovery',\n",
       " 'swapfile.sys',\n",
       " 'System Repair',\n",
       " 'System Volume Information',\n",
       " 'Users',\n",
       " 'Windows']"
      ]
     },
     "execution_count": 58,
     "metadata": {},
     "output_type": "execute_result"
    }
   ],
   "source": [
    "def filelist():\n",
    "    return os.listdir('C:/')\n",
    "\n",
    "filelist()"
   ]
  },
  {
   "cell_type": "markdown",
   "id": "13540636",
   "metadata": {},
   "source": [
    "q19 : write a function whihc will be able to read a image file and show it to you ."
   ]
  },
  {
   "cell_type": "code",
   "execution_count": 11,
   "id": "eac49d95",
   "metadata": {},
   "outputs": [],
   "source": [
    "import cv2\n",
    "\n",
    "def read_img():\n",
    "    obj = cv2.imread(r'C:\\Users\\Ankur  Yadav\\Downloads\\ankur.jpeg')\n",
    "    cv2.imshow('Myimage',obj)\n",
    "    cv2.waitKey(5000)\n",
    "    cv2.destroyWindow('Myimage')\n",
    "    \n",
    "read_img()"
   ]
  },
  {
   "cell_type": "markdown",
   "id": "5efb39d6",
   "metadata": {},
   "source": [
    "q20 : write a function by which you will be able to append two PDF files . "
   ]
  },
  {
   "cell_type": "code",
   "execution_count": 19,
   "id": "ddefbda5",
   "metadata": {},
   "outputs": [
    {
     "ename": "UnicodeDecodeError",
     "evalue": "'charmap' codec can't decode byte 0x8f in position 16: character maps to <undefined>",
     "output_type": "error",
     "traceback": [
      "\u001b[1;31m---------------------------------------------------------------------------\u001b[0m",
      "\u001b[1;31mUnicodeDecodeError\u001b[0m                        Traceback (most recent call last)",
      "\u001b[1;32mC:\\Users\\ANKURY~1\\AppData\\Local\\Temp/ipykernel_37152/3285400080.py\u001b[0m in \u001b[0;36m<module>\u001b[1;34m\u001b[0m\n\u001b[0;32m      2\u001b[0m \u001b[0mf2\u001b[0m \u001b[1;33m=\u001b[0m \u001b[0mopen\u001b[0m\u001b[1;33m(\u001b[0m\u001b[1;34mr'C:\\Users\\Ankur  Yadav\\Downloads\\Lines and Angles, Triangles and Quadrilaterals.pdf'\u001b[0m\u001b[1;33m,\u001b[0m\u001b[1;34m'r'\u001b[0m\u001b[1;33m)\u001b[0m\u001b[1;33m\u001b[0m\u001b[1;33m\u001b[0m\u001b[0m\n\u001b[0;32m      3\u001b[0m \u001b[1;33m\u001b[0m\u001b[0m\n\u001b[1;32m----> 4\u001b[1;33m \u001b[0mstr\u001b[0m\u001b[1;33m(\u001b[0m\u001b[0mlist\u001b[0m\u001b[1;33m(\u001b[0m\u001b[0mf1\u001b[0m\u001b[1;33m)\u001b[0m\u001b[1;33m)\u001b[0m \u001b[1;33m+\u001b[0m \u001b[0mstr\u001b[0m\u001b[1;33m(\u001b[0m\u001b[0mlist\u001b[0m\u001b[1;33m(\u001b[0m\u001b[0mf2\u001b[0m\u001b[1;33m)\u001b[0m\u001b[1;33m)\u001b[0m\u001b[1;33m\u001b[0m\u001b[1;33m\u001b[0m\u001b[0m\n\u001b[0m",
      "\u001b[1;32m~\\anaconda3\\lib\\encodings\\cp1252.py\u001b[0m in \u001b[0;36mdecode\u001b[1;34m(self, input, final)\u001b[0m\n\u001b[0;32m     21\u001b[0m \u001b[1;32mclass\u001b[0m \u001b[0mIncrementalDecoder\u001b[0m\u001b[1;33m(\u001b[0m\u001b[0mcodecs\u001b[0m\u001b[1;33m.\u001b[0m\u001b[0mIncrementalDecoder\u001b[0m\u001b[1;33m)\u001b[0m\u001b[1;33m:\u001b[0m\u001b[1;33m\u001b[0m\u001b[1;33m\u001b[0m\u001b[0m\n\u001b[0;32m     22\u001b[0m     \u001b[1;32mdef\u001b[0m \u001b[0mdecode\u001b[0m\u001b[1;33m(\u001b[0m\u001b[0mself\u001b[0m\u001b[1;33m,\u001b[0m \u001b[0minput\u001b[0m\u001b[1;33m,\u001b[0m \u001b[0mfinal\u001b[0m\u001b[1;33m=\u001b[0m\u001b[1;32mFalse\u001b[0m\u001b[1;33m)\u001b[0m\u001b[1;33m:\u001b[0m\u001b[1;33m\u001b[0m\u001b[1;33m\u001b[0m\u001b[0m\n\u001b[1;32m---> 23\u001b[1;33m         \u001b[1;32mreturn\u001b[0m \u001b[0mcodecs\u001b[0m\u001b[1;33m.\u001b[0m\u001b[0mcharmap_decode\u001b[0m\u001b[1;33m(\u001b[0m\u001b[0minput\u001b[0m\u001b[1;33m,\u001b[0m\u001b[0mself\u001b[0m\u001b[1;33m.\u001b[0m\u001b[0merrors\u001b[0m\u001b[1;33m,\u001b[0m\u001b[0mdecoding_table\u001b[0m\u001b[1;33m)\u001b[0m\u001b[1;33m[\u001b[0m\u001b[1;36m0\u001b[0m\u001b[1;33m]\u001b[0m\u001b[1;33m\u001b[0m\u001b[1;33m\u001b[0m\u001b[0m\n\u001b[0m\u001b[0;32m     24\u001b[0m \u001b[1;33m\u001b[0m\u001b[0m\n\u001b[0;32m     25\u001b[0m \u001b[1;32mclass\u001b[0m \u001b[0mStreamWriter\u001b[0m\u001b[1;33m(\u001b[0m\u001b[0mCodec\u001b[0m\u001b[1;33m,\u001b[0m\u001b[0mcodecs\u001b[0m\u001b[1;33m.\u001b[0m\u001b[0mStreamWriter\u001b[0m\u001b[1;33m)\u001b[0m\u001b[1;33m:\u001b[0m\u001b[1;33m\u001b[0m\u001b[1;33m\u001b[0m\u001b[0m\n",
      "\u001b[1;31mUnicodeDecodeError\u001b[0m: 'charmap' codec can't decode byte 0x8f in position 16: character maps to <undefined>"
     ]
    }
   ],
   "source": [
    "f1 = open(r'C:\\Users\\Ankur  Yadav\\Downloads\\Lines and Angles, Triangles and Quadrilaterals.pdf','r')\n",
    "f2 = open(r'C:\\Users\\Ankur  Yadav\\Downloads\\Lines and Angles, Triangles and Quadrilaterals.pdf','r')\n",
    "\n",
    "str(list(f1)) + str(list(f2))"
   ]
  },
  {
   "cell_type": "markdown",
   "id": "546ff788",
   "metadata": {},
   "source": [
    "q21 : write a function which can help you to filter only word file from a directory . "
   ]
  },
  {
   "cell_type": "code",
   "execution_count": 10,
   "id": "50093cf7",
   "metadata": {},
   "outputs": [
    {
     "data": {
      "text/plain": [
       "[]"
      ]
     },
     "execution_count": 10,
     "metadata": {},
     "output_type": "execute_result"
    }
   ],
   "source": [
    "import os\n",
    "def filefilter():\n",
    "    a = os.listdir()\n",
    "    return [i for i in a if i[-4:] =='docx']\n",
    "\n",
    "filefilter()"
   ]
  },
  {
   "cell_type": "markdown",
   "id": "04cef41c",
   "metadata": {},
   "source": [
    "q22 : write a function which can read video file and play for you . "
   ]
  },
  {
   "cell_type": "code",
   "execution_count": null,
   "id": "39d0870a",
   "metadata": {},
   "outputs": [],
   "source": []
  },
  {
   "cell_type": "markdown",
   "id": "ff5984f9",
   "metadata": {},
   "source": [
    "q23 : write a function which will be able to shutdonw your system . "
   ]
  },
  {
   "cell_type": "code",
   "execution_count": null,
   "id": "238f06d4",
   "metadata": {},
   "outputs": [],
   "source": []
  },
  {
   "cell_type": "markdown",
   "id": "7720c288",
   "metadata": {},
   "source": [
    "q24 : Write a function which will whould return list of all the file name from a directory . "
   ]
  },
  {
   "cell_type": "code",
   "execution_count": 62,
   "id": "83e3ab7d",
   "metadata": {},
   "outputs": [
    {
     "data": {
      "text/plain": [
       "['.ipynb_checkpoints',\n",
       " 'Assignment_01.ipynb',\n",
       " 'Assignment_02.ipynb',\n",
       " 'Challenge_02.ipynb',\n",
       " 'challenge_03_29thMay.ipynb',\n",
       " 'challenge_1.ipynb',\n",
       " 'DS_lecture_01_python basic.ipynb',\n",
       " 'DS_lecture_02_python variables.ipynb',\n",
       " 'DS_Lecture_03_list_tuple_set_dictionary.ipynb',\n",
       " 'DS_Lecture_04_Loops_conditional statements.ipynb',\n",
       " 'DS_lecture_05_for_loops.ipynb',\n",
       " 'DS_lecture_06_while_loop.ipynb',\n",
       " 'texttovoice.mp3']"
      ]
     },
     "execution_count": 62,
     "metadata": {},
     "output_type": "execute_result"
    }
   ],
   "source": [
    "import os\n",
    "def filelist():\n",
    "    return os.listdir()\n",
    "filelist()"
   ]
  },
  {
   "cell_type": "markdown",
   "id": "1afe51e6",
   "metadata": {},
   "source": [
    "q25 : write a function whihc will be able to access your mail . "
   ]
  },
  {
   "cell_type": "code",
   "execution_count": null,
   "id": "1db8b666",
   "metadata": {},
   "outputs": [],
   "source": []
  }
 ],
 "metadata": {
  "kernelspec": {
   "display_name": "Python 3 (ipykernel)",
   "language": "python",
   "name": "python3"
  },
  "language_info": {
   "codemirror_mode": {
    "name": "ipython",
    "version": 3
   },
   "file_extension": ".py",
   "mimetype": "text/x-python",
   "name": "python",
   "nbconvert_exporter": "python",
   "pygments_lexer": "ipython3",
   "version": "3.9.7"
  }
 },
 "nbformat": 4,
 "nbformat_minor": 5
}
